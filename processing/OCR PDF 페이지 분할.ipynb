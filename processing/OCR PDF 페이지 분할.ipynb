{
 "cells": [
  {
   "cell_type": "code",
   "execution_count": 1,
   "metadata": {},
   "outputs": [
    {
     "name": "stdout",
     "output_type": "stream",
     "text": [
      "Collecting pypdf\n",
      "  Downloading pypdf-5.4.0-py3-none-any.whl.metadata (7.3 kB)\n",
      "Downloading pypdf-5.4.0-py3-none-any.whl (302 kB)\n",
      "Installing collected packages: pypdf\n",
      "Successfully installed pypdf-5.4.0\n",
      "Note: you may need to restart the kernel to use updated packages.\n"
     ]
    },
    {
     "name": "stderr",
     "output_type": "stream",
     "text": [
      "\n",
      "[notice] A new release of pip is available: 24.3.1 -> 25.0.1\n",
      "[notice] To update, run: python.exe -m pip install --upgrade pip\n"
     ]
    }
   ],
   "source": [
    "%pip install pypdf"
   ]
  },
  {
   "cell_type": "code",
   "execution_count": null,
   "metadata": {},
   "outputs": [
    {
     "name": "stdout",
     "output_type": "stream",
     "text": [
      "Total pages in PDF: 240\n",
      "Splitting into 24 chunks of max 10 pages...\n",
      "  Saved chunk 1: [셀트리온]분기보고서(2024.11.14)_p1-10.pdf (Pages 1 to 10)\n",
      "  Saved chunk 2: [셀트리온]분기보고서(2024.11.14)_p11-20.pdf (Pages 11 to 20)\n",
      "  Saved chunk 3: [셀트리온]분기보고서(2024.11.14)_p21-30.pdf (Pages 21 to 30)\n",
      "  Saved chunk 4: [셀트리온]분기보고서(2024.11.14)_p31-40.pdf (Pages 31 to 40)\n",
      "  Saved chunk 5: [셀트리온]분기보고서(2024.11.14)_p41-50.pdf (Pages 41 to 50)\n",
      "  Saved chunk 6: [셀트리온]분기보고서(2024.11.14)_p51-60.pdf (Pages 51 to 60)\n",
      "  Saved chunk 7: [셀트리온]분기보고서(2024.11.14)_p61-70.pdf (Pages 61 to 70)\n",
      "  Saved chunk 8: [셀트리온]분기보고서(2024.11.14)_p71-80.pdf (Pages 71 to 80)\n",
      "  Saved chunk 9: [셀트리온]분기보고서(2024.11.14)_p81-90.pdf (Pages 81 to 90)\n",
      "  Saved chunk 10: [셀트리온]분기보고서(2024.11.14)_p91-100.pdf (Pages 91 to 100)\n",
      "  Saved chunk 11: [셀트리온]분기보고서(2024.11.14)_p101-110.pdf (Pages 101 to 110)\n",
      "  Saved chunk 12: [셀트리온]분기보고서(2024.11.14)_p111-120.pdf (Pages 111 to 120)\n",
      "  Saved chunk 13: [셀트리온]분기보고서(2024.11.14)_p121-130.pdf (Pages 121 to 130)\n",
      "  Saved chunk 14: [셀트리온]분기보고서(2024.11.14)_p131-140.pdf (Pages 131 to 140)\n",
      "  Saved chunk 15: [셀트리온]분기보고서(2024.11.14)_p141-150.pdf (Pages 141 to 150)\n",
      "  Saved chunk 16: [셀트리온]분기보고서(2024.11.14)_p151-160.pdf (Pages 151 to 160)\n",
      "  Saved chunk 17: [셀트리온]분기보고서(2024.11.14)_p161-170.pdf (Pages 161 to 170)\n",
      "  Saved chunk 18: [셀트리온]분기보고서(2024.11.14)_p171-180.pdf (Pages 171 to 180)\n",
      "  Saved chunk 19: [셀트리온]분기보고서(2024.11.14)_p181-190.pdf (Pages 181 to 190)\n",
      "  Saved chunk 20: [셀트리온]분기보고서(2024.11.14)_p191-200.pdf (Pages 191 to 200)\n",
      "  Saved chunk 21: [셀트리온]분기보고서(2024.11.14)_p201-210.pdf (Pages 201 to 210)\n",
      "  Saved chunk 22: [셀트리온]분기보고서(2024.11.14)_p211-220.pdf (Pages 211 to 220)\n",
      "  Saved chunk 23: [셀트리온]분기보고서(2024.11.14)_p221-230.pdf (Pages 221 to 230)\n",
      "  Saved chunk 24: [셀트리온]분기보고서(2024.11.14)_p231-240.pdf (Pages 231 to 240)\n",
      "PDF splitting completed successfully.\n"
     ]
    }
   ],
   "source": [
    "from pypdf import PdfReader, PdfWriter\n",
    "import os\n",
    "import math\n",
    "\n",
    "def split_pdf_into_chunks(input_pdf_path, output_dir, chunk_size=10):\n",
    "    \"\"\"\n",
    "    PDF 파일을 지정된 페이지 수(chunk_size) 단위로 분할합니다.\n",
    "\n",
    "    Args:\n",
    "        input_pdf_path (str): 원본 PDF 파일 경로\n",
    "        output_dir (str): 분할된 PDF 파일들을 저장할 디렉토리 경로\n",
    "        chunk_size (int): 각 파일에 포함될 최대 페이지 수 (기본값: 10)\n",
    "    \"\"\"\n",
    "    try:\n",
    "        reader = PdfReader(input_pdf_path)\n",
    "        total_pages = len(reader.pages)\n",
    "        print(f\"Total pages in PDF: {total_pages}\")\n",
    "\n",
    "        # 출력 디렉토리 생성 (없으면)\n",
    "        if not os.path.exists(output_dir):\n",
    "            os.makedirs(output_dir)\n",
    "            print(f\"Created output directory: {output_dir}\")\n",
    "\n",
    "        # 파일 이름 설정을 위한 원본 파일명 (확장자 제외)\n",
    "        base_filename = os.path.splitext(os.path.basename(input_pdf_path))[0]\n",
    "\n",
    "        # 페이지 단위로 분할 작업 수행\n",
    "        num_chunks = math.ceil(total_pages / chunk_size)\n",
    "        print(f\"Splitting into {num_chunks} chunks of max {chunk_size} pages...\")\n",
    "\n",
    "        for i in range(num_chunks):\n",
    "            start_page = i * chunk_size\n",
    "            # 마지막 페이지 인덱스는 (end_page - 1) 이므로, 실제 end_page는 min 값보다 1 커야 함\n",
    "            end_page = min(start_page + chunk_size, total_pages)\n",
    "\n",
    "            writer = PdfWriter()\n",
    "\n",
    "            # 현재 청크에 해당하는 페이지 추가\n",
    "            for page_num in range(start_page, end_page):\n",
    "                writer.add_page(reader.pages[page_num])\n",
    "\n",
    "            # 출력 파일 이름 생성 (예: original_p1-10.pdf, original_p11-20.pdf)\n",
    "            output_filename = f\"{base_filename}_p{start_page + 1}-{end_page}.pdf\"\n",
    "            output_filepath = os.path.join(output_dir, output_filename)\n",
    "\n",
    "            # 분할된 PDF 파일 저장\n",
    "            with open(output_filepath, \"wb\") as output_pdf:\n",
    "                writer.write(output_pdf)\n",
    "\n",
    "            print(f\"  Saved chunk {i+1}: {output_filename} (Pages {start_page + 1} to {end_page})\")\n",
    "\n",
    "        print(\"PDF splitting completed successfully.\")\n",
    "\n",
    "    except FileNotFoundError:\n",
    "        print(f\"Error: Input PDF file not found at {input_pdf_path}\")\n",
    "    except Exception as e:\n",
    "        print(f\"An error occurred during PDF splitting: {e}\")\n",
    "\n",
    "input_pdf = \"셀트리온 공시자료\\\\[셀트리온]분기보고서(2024.11.14).pdf\"  # <<<< 원본 PDF 파일 경로 입력\n",
    "output_directory = \"셀트리온 공시자료\"       # <<<< 분할된 파일 저장할 폴더 이름\n",
    "pages_per_chunk = 10                  # <<<< 페이지 단위\n",
    "\n",
    "split_pdf_into_chunks(input_pdf, output_directory, pages_per_chunk)"
   ]
  },
  {
   "cell_type": "code",
   "execution_count": 4,
   "metadata": {},
   "outputs": [
    {
     "name": "stdout",
     "output_type": "stream",
     "text": [
      "Total pages in PDF: 23\n",
      "Splitting into 3 chunks of max 10 pages...\n",
      "  Saved chunk 1: [셀트리온]주식등의대량보유상황보고서(일반)(2024.09.09)_p1-10.pdf (Pages 1 to 10)\n",
      "  Saved chunk 2: [셀트리온]주식등의대량보유상황보고서(일반)(2024.09.09)_p11-20.pdf (Pages 11 to 20)\n",
      "  Saved chunk 3: [셀트리온]주식등의대량보유상황보고서(일반)(2024.09.09)_p21-23.pdf (Pages 21 to 23)\n",
      "PDF splitting completed successfully.\n"
     ]
    }
   ],
   "source": [
    "input_pdf = \"셀트리온 공시자료\\\\[셀트리온]주식등의대량보유상황보고서(일반)(2024.09.09).pdf\"  # <<<< 원본 PDF 파일 경로 입력\n",
    "output_directory = \"셀트리온 공시자료\"       # <<<< 분할된 파일 저장할 폴더 이름\n",
    "pages_per_chunk = 10                  # <<<< 페이지 단위\n",
    "\n",
    "split_pdf_into_chunks(input_pdf, output_directory, pages_per_chunk)"
   ]
  }
 ],
 "metadata": {
  "kernelspec": {
   "display_name": "Python 3",
   "language": "python",
   "name": "python3"
  },
  "language_info": {
   "codemirror_mode": {
    "name": "ipython",
    "version": 3
   },
   "file_extension": ".py",
   "mimetype": "text/x-python",
   "name": "python",
   "nbconvert_exporter": "python",
   "pygments_lexer": "ipython3",
   "version": "3.13.2"
  }
 },
 "nbformat": 4,
 "nbformat_minor": 2
}
